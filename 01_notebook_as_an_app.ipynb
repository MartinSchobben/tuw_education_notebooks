{
  "cells": [
    {
      "cell_type": "raw",
      "metadata": {},
      "source": [
        "---\n",
        "title: Reverend Bayes updates our Belief in Flood Detection\n",
        "subtitle: How an 275 year old idea helps map the extent of floods\n",
        "keep-ipynb: true\n",
        "code-fold: true\n",
        "---"
      ],
      "id": "5a107840"
    },
    {
      "cell_type": "markdown",
      "metadata": {},
      "source": [
        "[![](https://mybinder.org/badge_logo.svg)](https://mybinder.org/v2/gh/tuw-geo/tuw_education_notebooks/bee07addf02b7fb6a690f1ee26ed2297f25d3f4c?urlpath=lab%2Ftree%2F01_notebook_as_an_app.ipynb)\n",
        "\n",
        "![Image from [wikipedia](https://upload.wikimedia.org/wikipedia/commons/d/d4/Thomas_Bayes.gif)](https://upload.wikimedia.org/wikipedia/commons/d/d4/Thomas_Bayes.gif)\n"
      ],
      "id": "e53b387c"
    },
    {
      "cell_type": "code",
      "metadata": {},
      "source": [
        "%matplotlib widget\n",
        "\n",
        "import numpy as np\n",
        "from eomaps import Maps\n",
        "\n",
        "from tuw_education_notebooks.view_bayes_flood import view_bayes_flood\n",
        "from tuw_education_notebooks.calc_bayes_flood import sig0_dc, calc_likelihoods"
      ],
      "id": "ddb8ae27",
      "execution_count": null,
      "outputs": []
    },
    {
      "cell_type": "markdown",
      "metadata": {},
      "source": [
        "## From Backscattering to Flood Mapping\n",
        "\n",
        "This notebook explains how microwave ($\\sigma^0$) backscattering (@fig-area) can be used to map the extent of a flood. We replicate in this exercise the work of @bauer-marschallinger_satellite-based_2022 on the TU Wien Bayesian-based flood mapping algorithm.\n",
        "\n",
        "In the following lines we create a map with EOmaps [@quast_getting_2024] of the $\\sigma^0$ backscattering values.\n"
      ],
      "id": "d87afd11"
    },
    {
      "cell_type": "code",
      "metadata": {},
      "source": [
        "#| label: fig-area\n",
        "#| fig-cap: 'Area targeted for $\\sigma^0$ backscattering is the Greek region of Thessaly, which experienced a major flood in February of 2018.'\n",
        "m = Maps(ax=121, crs=3857)\n",
        "m.set_data(data=sig0_dc, x=\"x\", y=\"y\", parameter=\"SIG0\", crs=Maps.CRS.Equi7_EU)\n",
        "m.plot_map()\n",
        "m.add_colorbar(label=\"$\\sigma^0$ (dB)\", orientation=\"vertical\", hist_bins=30)\n",
        "m.add_scalebar(n=5)\n",
        "m2 = m.new_map(ax=122, crs=3857)\n",
        "m2.set_extent(m.get_extent())\n",
        "m2.add_wms.OpenStreetMap.add_layer.default()\n",
        "m.apply_layout(\n",
        "    {\n",
        "        'figsize': [7.32, 4.59],\n",
        "        '0_map': [0.05, 0.18, 0.35, 0.64],\n",
        "        '1_cb': [0.8125, 0.1, 0.1, 0.8],\n",
        "        '1_cb_histogram_size': 0.8,\n",
        "        '2_map': [0.4375, 0.18, 0.35, 0.64]\n",
        "        }\n",
        "    )\n",
        "m.show()"
      ],
      "id": "fig-area",
      "execution_count": null,
      "outputs": []
    },
    {
      "cell_type": "markdown",
      "metadata": {},
      "source": [
        "## Microwave Backscattering over Land and Water\n",
        "\n",
        "Reverend Bayes was concerned with two events, one (the *hypothesis*) occurring before the other (the *evidence*). If we know its cause, it is easy to logically deduce the probability of an effect. However, in this case we want to deduce the probability of a cause from an observed effect, also known as \"reversed probability\". In the case of flood mapping, we have $\\sigma^0$ backscatter observations over land (the effect) and we want to deduce the probability of flooding ($F$) and non-flooding ($NF$). \n",
        "\n",
        "In other words, we want to know the probability of flooding $P(F)$ given a pixel's $\\sigma^0$:\n",
        "\n",
        "$$P(F|\\sigma^0)$$\n",
        "\n",
        "and the probability of a pixel being not flooded $P(NF)$ given a certain $\\sigma^0$:\n",
        "\n",
        "$$P(NF|\\sigma^0).$$\n",
        "\n",
        "Bayes showed that these can be deduced from the observation that forward and reversed probability are equal, so that:\n",
        "\n",
        "$$P(F|\\sigma^0)P(\\sigma^0) = P(\\sigma^0|F)P(F)$$\n",
        "\n",
        "and\n",
        "\n",
        "$$P(NF|\\sigma^0)P(\\sigma^0) = P(\\sigma^0|NF)P(NF).$$\n",
        "\n",
        "\n",
        "The forward probability of $\\sigma^0$ given the occurrence of flooding ($P(\\sigma^0|F)$) and $\\sigma^0$ given no flooding ($P(\\sigma^0|NF)$) can be extracted from past information on backscattering over land and water surfaces. As seen in the sketch below (@fig-sat), the characteristics of backscattering over land and water differ considerably.\n",
        "\n",
        "![Schematic backscattering over land and water. Image from [Geological Survey Ireland](https://www.gsi.ie/images/images/SAR_mapping_land_water.jpg)](https://www.gsi.ie/images/images/SAR_mapping_land_water.jpg){#fig-sat}\n",
        "\n",
        "## Likelihoods\n",
        "\n",
        "The so-called likelihoods of $P(\\sigma^0|F)$ and $P(\\sigma^0|NF)$ can thus be calculated from past backscattering information. Without going into the details of how these likelihoods are calculated, you can **click** on a pixel of the map to plot the likelihoods of $\\sigma^0$ being governed by land or water.\n"
      ],
      "id": "31cc56ce"
    },
    {
      "cell_type": "code",
      "metadata": {},
      "source": [
        "#| label: fig-lik\n",
        "#| fig-cap: 'Likelihoods for $\\sigma^0$ being associated with land or water for 1 pixel in the Greek area of Thessaly. Likelihoods are calculated over a range of $\\sigma^0$. The pixel''s observed $\\sigma^0$ is given with a vertical line. Click on the map to re-calculate and update this figure for another pixel in the study area. Map created with EOmaps [@quast_getting_2024].'\n",
        "view_bayes_flood(sig0_dc)"
      ],
      "id": "fig-lik",
      "execution_count": null,
      "outputs": []
    },
    {
      "cell_type": "markdown",
      "metadata": {},
      "source": [
        "## Posteriors\n",
        "\n",
        "Having calculated the likelihoods, we can now move on to calculate the probability of (non-)flooding given a pixel's $\\sigma^0$. These so-called *posteriors* need one more piece of information, as can be seen in the equation above. We need the probability that a pixel is flooded $P(F)$ or not flooded $P(NF)$. Of course, these are the figures we've been trying to find this whole time. We don't actually have them yet, so what can we do? In Bayesian statistics, we can just start with our best guess. These guesses are called our \"priors\", because they are the beliefs we hold *prior* to looking at the data. This subjective prior belief is the foundation Bayesian statistics, and we use the likelihoods we just calculated to update our belief in this particular hypothesis. This updated belief is called the \"posterior\".\n",
        "\n",
        "Let's say that our best estimate for the chance of flooding versus non-flooding of a pixel is 50-50: a coin flip.  We now can also calculate the probability of backscattering $P(\\sigma^0)$, as the weighted average of the water and land likelihoods, ensuring that our posteriors range between 0 to 1.\n",
        "\n",
        "The following code block shows how we calculate the priors.\n"
      ],
      "id": "a33ec3ae"
    },
    {
      "cell_type": "code",
      "metadata": {},
      "source": [
        "def calc_posteriors(water_likelihood, land_likelihood):\n",
        "    evidence = (water_likelihood * 0.5) + (land_likelihood * 0.5)\n",
        "    return (water_likelihood * 0.5) / evidence,  (land_likelihood * 0.5) / evidence"
      ],
      "id": "82db1421",
      "execution_count": null,
      "outputs": []
    },
    {
      "cell_type": "markdown",
      "metadata": {},
      "source": [
        "We can plot the posterior probabilities of flooding and non-flooding again and compare these to pixel's measured $\\sigma^0$. **Click** on a pixel to calculate the posterior probability.\n"
      ],
      "id": "a5058dd9"
    },
    {
      "cell_type": "code",
      "metadata": {},
      "source": [
        "#| label: fig-post\n",
        "#| fig-cap: 'Posterior probabilities for $\\sigma^0$ of 1 pixel being associated with land for water in the Greek area of Thessaly. Click on the map to re-calculate and update this figure for another pixel in the study area. Map created with EOmaps [@quast_getting_2024].'\n",
        "view_bayes_flood(sig0_dc, calc_posteriors)"
      ],
      "id": "fig-post",
      "execution_count": null,
      "outputs": []
    },
    {
      "cell_type": "markdown",
      "metadata": {},
      "source": [
        "## Flood Classification\n",
        "\n",
        "We are now ready to combine all this information and classify the pixels according to the probability of flooding given the backscatter value of each pixel. Here we just look whether the probability of flooding is higher than non-flooding:\n"
      ],
      "id": "d563a7b1"
    },
    {
      "cell_type": "code",
      "metadata": {},
      "source": [
        "def bayesian_flood_decision(id, sig0_dc):\n",
        "    nf_post_prob, f_post_prob = calc_posteriors(*calc_likelihoods(id,  sig0_dc))\n",
        "    return np.greater(f_post_prob, nf_post_prob)"
      ],
      "id": "03dd955f",
      "execution_count": null,
      "outputs": []
    },
    {
      "cell_type": "markdown",
      "metadata": {},
      "source": [
        "**Click** on a point in the below map to see the likelihoods and posterior distributions (in the left-hand subplots).\n"
      ],
      "id": "8d6d4cac"
    },
    {
      "cell_type": "code",
      "metadata": {},
      "source": [
        "#| label: fig-clas\n",
        "#| fig-cap: 'Flood extent of the Greek region of Thessaly based on Bayesian probabilities are shown on the map superimposed on an open street map. Click on a pixel to generate the point''s water and land likelihoods as well as the posterior probabilities. Map created with EOmaps [@quast_getting_2024].'\n",
        "view_bayes_flood(sig0_dc, calc_posteriors, bayesian_flood_decision)"
      ],
      "id": "fig-clas",
      "execution_count": null,
      "outputs": []
    }
  ],
  "metadata": {
    "kernelspec": {
      "name": "tuw_education_notebooks",
      "language": "python",
      "display_name": "tuw_education_notebooks"
    }
  },
  "nbformat": 4,
  "nbformat_minor": 5
}